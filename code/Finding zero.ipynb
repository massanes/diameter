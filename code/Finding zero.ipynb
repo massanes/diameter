{
 "cells": [
  {
   "cell_type": "markdown",
   "metadata": {},
   "source": [
    "Las mates son faciles, aqui tienes un dibujo que lo pone todo en perspectiva, el problema es que hay que resolver para un seno.\n",
    "\n",
    "Eso necesita una aproximacion numerica muy facil :)\n"
   ]
  },
  {
   "cell_type": "markdown",
   "metadata": {},
   "source": [
    "![title](img/emilio.png)"
   ]
  },
  {
   "cell_type": "code",
   "execution_count": 4,
   "metadata": {},
   "outputs": [],
   "source": [
    "A = 1\n",
    "C = 0.5"
   ]
  },
  {
   "cell_type": "code",
   "execution_count": 26,
   "metadata": {},
   "outputs": [
    {
     "data": {
      "text/plain": [
       "-1320.4208520000002"
      ]
     },
     "execution_count": 26,
     "metadata": {},
     "output_type": "execute_result"
    }
   ],
   "source": [
    "import numpy as np\n",
    "import scipy.optimize\n",
    "import matplotlib.pyplot as plt\n",
    "\n",
    "def f(d,A,C):\n",
    "    return np.sin(A/d) - C/d;\n",
    "\n",
    "def t(d,A,C):\n",
    "    #print (16*A*np.pi-C*5*np.pi**2)\n",
    "    #print (4*A*np.pi*C - 16*A**2)\n",
    "    #print -4*A*A*C\n",
    "    return (16*A*np.pi-C*5*np.pi**2)*d**2 + (4*A*np.pi*C - 16*A**2)*d -4*A*A*C\n",
    "\n",
    "t(0,7.11,6.53)"
   ]
  },
  {
   "cell_type": "code",
   "execution_count": 31,
   "metadata": {},
   "outputs": [
    {
     "data": {
      "text/plain": [
       "[<matplotlib.lines.Line2D at 0x7fd2963ff860>]"
      ]
     },
     "execution_count": 31,
     "metadata": {},
     "output_type": "execute_result"
    },
    {
     "data": {
      "image/png": "[encoded data removed]",
      "text/plain": [
       "<Figure size 432x288 with 1 Axes>"
      ]
     },
     "metadata": {},
     "output_type": "display_data"
    }
   ],
   "source": [
    "x = np.linspace(A/3.14, 10.75, 1024)\n",
    "y = f(x,A,C)\n",
    "\n",
    "plt.plot(x,y)\n"
   ]
  },
  {
   "cell_type": "code",
   "execution_count": 32,
   "metadata": {},
   "outputs": [
    {
     "data": {
      "text/plain": [
       "[<matplotlib.lines.Line2D at 0x7fd2963b7b38>]"
      ]
     },
     "execution_count": 32,
     "metadata": {},
     "output_type": "execute_result"
    },
    {
     "data": {
      "image/png": "[encoded data removed]",
      "text/plain": [
       "<Figure size 432x288 with 1 Axes>"
      ]
     },
     "metadata": {},
     "output_type": "display_data"
    }
   ],
   "source": [
    "x = np.linspace(A/3.14, 10.75, 1024)\n",
    "y = t(x,A,C)\n",
    "\n",
    "plt.plot(x,y)\n"
   ]
  },
  {
   "cell_type": "code",
   "execution_count": 33,
   "metadata": {},
   "outputs": [
    {
     "name": "stdout",
     "output_type": "stream",
     "text": [
      "The diameter for A=1.00 and C=1.00 is d=1000000000000.00\n",
      "The diameter for A=1.00 and C=1.00 is d=4.68\n"
     ]
    }
   ],
   "source": [
    "M = 10**12; # Hace falta un maximo, 12 zeros parece un buen maximo\n",
    "\n",
    "A = 1;\n",
    "C = 1;\n",
    "\n",
    "rx = scipy.optimize.brentq(f, 0.2, M, args = (A,C) )\n",
    "\n",
    "print('The diameter for A={0:.2f} and C={1:.2f} is d={2:.2f}'.format(A,C,rx))\n",
    "\n",
    "\n",
    "rx = scipy.optimize.brentq(t, 0, M, args = (A,C) )\n",
    "\n",
    "print('The diameter for A={0:.2f} and C={1:.2f} is d={2:.2f}'.format(A,C,rx))\n"
   ]
  }
 ],
 "metadata": {
  "kernelspec": {
   "display_name": "Python 3",
   "language": "python",
   "name": "python3"
  },
  "language_info": {
   "codemirror_mode": {
    "name": "ipython",
    "version": 3
   },
   "file_extension": ".py",
   "mimetype": "text/x-python",
   "name": "python",
   "nbconvert_exporter": "python",
   "pygments_lexer": "ipython3",
   "version": "3.5.2"
  }
 },
 "nbformat": 4,
 "nbformat_minor": 2
}
