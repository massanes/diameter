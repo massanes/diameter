{
 "cells": [
  {
   "cell_type": "code",
   "execution_count": 2,
   "metadata": {},
   "outputs": [],
   "source": [
    "import numpy as np\n",
    "import scipy.optimize\n",
    "import matplotlib.pyplot as plt\n",
    "\n",
    "def f(d,A,C):\n",
    "    return np.sin(A/d) - C/d;"
   ]
  },
  {
   "cell_type": "code",
   "execution_count": 3,
   "metadata": {},
   "outputs": [
    {
     "name": "stdout",
     "output_type": "stream",
     "text": [
      "The diameter for A=1.00 and C=0.50 is d=0.53\n",
      "El diametro para A=1.00 y C=0.50 es d=0.53\n"
     ]
    }
   ],
   "source": [
    "M = 10**12; # Hace falta un maximo, 12 zeros parece un buen maximo\n",
    "\n",
    "A= 1\n",
    "C= 0.5\n",
    "rx = scipy.optimize.brentq(f, 0.2, M, args = (A,C) )\n",
    "\n",
    "print('The diameter for A={0:.2f} and C={1:.2f} is d={2:.2f}'.format(A,C,rx))\n",
    "print('El diametro para A={0:.2f} y C={1:.2f} es d={2:.2f}'.format(A,C,rx))\n"
   ]
  },
  {
   "cell_type": "code",
   "execution_count": 4,
   "metadata": {},
   "outputs": [
    {
     "name": "stdout",
     "output_type": "stream",
     "text": [
      "The diameter for A=7.11 and C=6.53 is d=10.04\n",
      "El diametro para A=7.11 y C=6.53 es d=10.04\n"
     ]
    }
   ],
   "source": [
    "M = 10**12; # Hace falta un maximo, 12 zeros parece un buen maximo\n",
    "\n",
    "A= 7.11\n",
    "C= 6.53\n",
    "rx = scipy.optimize.brentq(f, 0.2, M, args = (A,C) )\n",
    "\n",
    "print('The diameter for A={0:.2f} and C={1:.2f} is d={2:.2f}'.format(A,C,rx))\n",
    "print('El diametro para A={0:.2f} y C={1:.2f} es d={2:.2f}'.format(A,C,rx))\n"
   ]
  },
  {
   "cell_type": "code",
   "execution_count": 5,
   "metadata": {},
   "outputs": [
    {
     "name": "stdout",
     "output_type": "stream",
     "text": [
      "The diameter for A=13.23 and C=9.70 is d=10.01\n",
      "El diametro para A=13.23 y C=9.70 es d=10.01\n"
     ]
    }
   ],
   "source": [
    "M = 10**12; # Hace falta un maximo, 12 zeros parece un buen maximo\n",
    "\n",
    "A= 13.23\n",
    "C= 9.7\n",
    "rx = scipy.optimize.brentq(f, 0.2, M, args = (A,C) )\n",
    "\n",
    "print('The diameter for A={0:.2f} and C={1:.2f} is d={2:.2f}'.format(A,C,rx))\n",
    "print('El diametro para A={0:.2f} y C={1:.2f} es d={2:.2f}'.format(A,C,rx))"
   ]
  },
  {
   "cell_type": "code",
   "execution_count": null,
   "metadata": {},
   "outputs": [],
   "source": []
  }
 ],
 "metadata": {
  "kernelspec": {
   "display_name": "Python 3",
   "language": "python",
   "name": "python3"
  },
  "language_info": {
   "codemirror_mode": {
    "name": "ipython",
    "version": 3
   },
   "file_extension": ".py",
   "mimetype": "text/x-python",
   "name": "python",
   "nbconvert_exporter": "python",
   "pygments_lexer": "ipython3",
   "version": "3.5.2"
  }
 },
 "nbformat": 4,
 "nbformat_minor": 2
}
